{
 "cells": [
  {
   "cell_type": "code",
   "execution_count": 1,
   "metadata": {},
   "outputs": [
    {
     "data": {
      "text/plain": [
       "'\\nInput : 153\\nOutput : Yes\\n153 is an Armstrong number.\\n1*1*1 + 5*5*5 + 3*3*3 = 153'"
      ]
     },
     "execution_count": 1,
     "metadata": {},
     "output_type": "execute_result"
    }
   ],
   "source": [
    "#Task\n",
    "\"\"\"\n",
    "Input : 153\n",
    "Output : Yes\n",
    "153 is an Armstrong number.\n",
    "1*1*1 + 5*5*5 + 3*3*3 = 153\"\"\""
   ]
  },
  {
   "cell_type": "code",
   "execution_count": 9,
   "metadata": {},
   "outputs": [
    {
     "name": "stdout",
     "output_type": "stream",
     "text": [
      "Enter a number to check its armstrong or not : 370\n",
      "370 is a armstrong number\n"
     ]
    }
   ],
   "source": [
    "number=int(input(\"Enter a number to check its armstrong or not : \"))\n",
    "sum=0\n",
    "order = len(str(number))\n",
    "number_copy=number\n",
    "while(number>0):\n",
    "    digit=number%10\n",
    "    sum=sum + digit**order\n",
    "    number=number//10\n",
    "if(number_copy==sum):\n",
    "    print(f\"{number_copy} is a armstrong number\")\n",
    "else:\n",
    "     print(f\"{number_copy} is not a armstrong number\")\n",
    "    \n",
    "    \n",
    "    "
   ]
  },
  {
   "cell_type": "code",
   "execution_count": null,
   "metadata": {},
   "outputs": [],
   "source": []
  }
 ],
 "metadata": {
  "kernelspec": {
   "display_name": "Python 3",
   "language": "python",
   "name": "python3"
  },
  "language_info": {
   "codemirror_mode": {
    "name": "ipython",
    "version": 3
   },
   "file_extension": ".py",
   "mimetype": "text/x-python",
   "name": "python",
   "nbconvert_exporter": "python",
   "pygments_lexer": "ipython3",
   "version": "3.8.3"
  }
 },
 "nbformat": 4,
 "nbformat_minor": 4
}
