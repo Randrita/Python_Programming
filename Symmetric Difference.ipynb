{
 "cells": [
  {
   "cell_type": "code",
   "execution_count": 6,
   "metadata": {},
   "outputs": [
    {
     "name": "stdout",
     "output_type": "stream",
     "text": [
      "1\n",
      "2 3 4\n",
      "5\n",
      "5 3 4\n",
      "2\n",
      "5\n"
     ]
    }
   ],
   "source": [
    "#input\n",
    "M=int(input())\n",
    "m=input()\n",
    "N=int(input())\n",
    "n=input()\n",
    "\n",
    "#splitting and mapping(string to int_list)\n",
    "x=list(map(int,m.split()))\n",
    "y=list(map(int,n.split()))\n",
    "\n",
    "#creation of sets\n",
    "a=set(x)\n",
    "b=set(y)\n",
    "\n",
    "#difference in each sets\n",
    "c=a.symmetric_difference(b)\n",
    "#d=b.difference(a)\n",
    "\n",
    "#union of difference\n",
    "#e=c.union(d)\n",
    "\n",
    "#converting set to a list\n",
    "result=list(c)\n",
    "\n",
    "#sorting\n",
    "result.sort()\n",
    "\n",
    "#iteration\n",
    "for i in range(len(result)):\n",
    "    print(result[i])"
   ]
  },
  {
   "cell_type": "code",
   "execution_count": 5,
   "metadata": {},
   "outputs": [],
   "source": [
    "set.update?\n"
   ]
  },
  {
   "cell_type": "code",
   "execution_count": null,
   "metadata": {},
   "outputs": [],
   "source": []
  }
 ],
 "metadata": {
  "kernelspec": {
   "display_name": "Python 3",
   "language": "python",
   "name": "python3"
  },
  "language_info": {
   "codemirror_mode": {
    "name": "ipython",
    "version": 3
   },
   "file_extension": ".py",
   "mimetype": "text/x-python",
   "name": "python",
   "nbconvert_exporter": "python",
   "pygments_lexer": "ipython3",
   "version": "3.8.3"
  }
 },
 "nbformat": 4,
 "nbformat_minor": 4
}
